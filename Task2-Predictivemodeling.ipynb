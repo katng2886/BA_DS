{
 "cells": [
  {
   "cell_type": "markdown",
   "metadata": {},
   "source": [
    "# Task 2\n",
    "\n",
    "---\n",
    "\n",
    "## Predictive modeling of customer bookings\n",
    "\n",
    "This Jupyter notebook includes some code to get you started with this predictive modeling task. We will use various packages for data manipulation, feature engineering and machine learning.\n",
    "\n",
    "### Exploratory data analysis\n",
    "\n",
    "First, we must explore the data in order to better understand what we have and the statistical properties of the dataset."
   ]
  },
  {
   "cell_type": "code",
   "execution_count": 1,
   "metadata": {},
   "outputs": [],
   "source": [
    "import pandas as pd"
   ]
  },
  {
   "cell_type": "code",
   "execution_count": 2,
   "metadata": {},
   "outputs": [
    {
     "data": {
      "text/html": [
       "<div>\n",
       "<style scoped>\n",
       "    .dataframe tbody tr th:only-of-type {\n",
       "        vertical-align: middle;\n",
       "    }\n",
       "\n",
       "    .dataframe tbody tr th {\n",
       "        vertical-align: top;\n",
       "    }\n",
       "\n",
       "    .dataframe thead th {\n",
       "        text-align: right;\n",
       "    }\n",
       "</style>\n",
       "<table border=\"1\" class=\"dataframe\">\n",
       "  <thead>\n",
       "    <tr style=\"text-align: right;\">\n",
       "      <th></th>\n",
       "      <th>num_passengers</th>\n",
       "      <th>sales_channel</th>\n",
       "      <th>trip_type</th>\n",
       "      <th>purchase_lead</th>\n",
       "      <th>length_of_stay</th>\n",
       "      <th>flight_hour</th>\n",
       "      <th>flight_day</th>\n",
       "      <th>route</th>\n",
       "      <th>booking_origin</th>\n",
       "      <th>wants_extra_baggage</th>\n",
       "      <th>wants_preferred_seat</th>\n",
       "      <th>wants_in_flight_meals</th>\n",
       "      <th>flight_duration</th>\n",
       "      <th>booking_complete</th>\n",
       "    </tr>\n",
       "  </thead>\n",
       "  <tbody>\n",
       "    <tr>\n",
       "      <th>0</th>\n",
       "      <td>2</td>\n",
       "      <td>Internet</td>\n",
       "      <td>RoundTrip</td>\n",
       "      <td>262</td>\n",
       "      <td>19</td>\n",
       "      <td>7</td>\n",
       "      <td>Sat</td>\n",
       "      <td>AKLDEL</td>\n",
       "      <td>New Zealand</td>\n",
       "      <td>1</td>\n",
       "      <td>0</td>\n",
       "      <td>0</td>\n",
       "      <td>5.52</td>\n",
       "      <td>0</td>\n",
       "    </tr>\n",
       "    <tr>\n",
       "      <th>1</th>\n",
       "      <td>1</td>\n",
       "      <td>Internet</td>\n",
       "      <td>RoundTrip</td>\n",
       "      <td>112</td>\n",
       "      <td>20</td>\n",
       "      <td>3</td>\n",
       "      <td>Sat</td>\n",
       "      <td>AKLDEL</td>\n",
       "      <td>New Zealand</td>\n",
       "      <td>0</td>\n",
       "      <td>0</td>\n",
       "      <td>0</td>\n",
       "      <td>5.52</td>\n",
       "      <td>0</td>\n",
       "    </tr>\n",
       "    <tr>\n",
       "      <th>2</th>\n",
       "      <td>2</td>\n",
       "      <td>Internet</td>\n",
       "      <td>RoundTrip</td>\n",
       "      <td>243</td>\n",
       "      <td>22</td>\n",
       "      <td>17</td>\n",
       "      <td>Wed</td>\n",
       "      <td>AKLDEL</td>\n",
       "      <td>India</td>\n",
       "      <td>1</td>\n",
       "      <td>1</td>\n",
       "      <td>0</td>\n",
       "      <td>5.52</td>\n",
       "      <td>0</td>\n",
       "    </tr>\n",
       "    <tr>\n",
       "      <th>3</th>\n",
       "      <td>1</td>\n",
       "      <td>Internet</td>\n",
       "      <td>RoundTrip</td>\n",
       "      <td>96</td>\n",
       "      <td>31</td>\n",
       "      <td>4</td>\n",
       "      <td>Sat</td>\n",
       "      <td>AKLDEL</td>\n",
       "      <td>New Zealand</td>\n",
       "      <td>0</td>\n",
       "      <td>0</td>\n",
       "      <td>1</td>\n",
       "      <td>5.52</td>\n",
       "      <td>0</td>\n",
       "    </tr>\n",
       "    <tr>\n",
       "      <th>4</th>\n",
       "      <td>2</td>\n",
       "      <td>Internet</td>\n",
       "      <td>RoundTrip</td>\n",
       "      <td>68</td>\n",
       "      <td>22</td>\n",
       "      <td>15</td>\n",
       "      <td>Wed</td>\n",
       "      <td>AKLDEL</td>\n",
       "      <td>India</td>\n",
       "      <td>1</td>\n",
       "      <td>0</td>\n",
       "      <td>1</td>\n",
       "      <td>5.52</td>\n",
       "      <td>0</td>\n",
       "    </tr>\n",
       "  </tbody>\n",
       "</table>\n",
       "</div>"
      ],
      "text/plain": [
       "   num_passengers sales_channel  trip_type  purchase_lead  length_of_stay  \\\n",
       "0               2      Internet  RoundTrip            262              19   \n",
       "1               1      Internet  RoundTrip            112              20   \n",
       "2               2      Internet  RoundTrip            243              22   \n",
       "3               1      Internet  RoundTrip             96              31   \n",
       "4               2      Internet  RoundTrip             68              22   \n",
       "\n",
       "   flight_hour flight_day   route booking_origin  wants_extra_baggage  \\\n",
       "0            7        Sat  AKLDEL    New Zealand                    1   \n",
       "1            3        Sat  AKLDEL    New Zealand                    0   \n",
       "2           17        Wed  AKLDEL          India                    1   \n",
       "3            4        Sat  AKLDEL    New Zealand                    0   \n",
       "4           15        Wed  AKLDEL          India                    1   \n",
       "\n",
       "   wants_preferred_seat  wants_in_flight_meals  flight_duration  \\\n",
       "0                     0                      0             5.52   \n",
       "1                     0                      0             5.52   \n",
       "2                     1                      0             5.52   \n",
       "3                     0                      1             5.52   \n",
       "4                     0                      1             5.52   \n",
       "\n",
       "   booking_complete  \n",
       "0                 0  \n",
       "1                 0  \n",
       "2                 0  \n",
       "3                 0  \n",
       "4                 0  "
      ]
     },
     "execution_count": 2,
     "metadata": {},
     "output_type": "execute_result"
    }
   ],
   "source": [
    "df = pd.read_csv(\"./customer_booking.csv\", encoding=\"ISO-8859-1\")\n",
    "df.head()"
   ]
  },
  {
   "cell_type": "markdown",
   "metadata": {},
   "source": [
    "The `.head()` method allows us to view the first 5 rows in the dataset, this is useful for visual inspection of our columns"
   ]
  },
  {
   "cell_type": "code",
   "execution_count": 3,
   "metadata": {},
   "outputs": [
    {
     "name": "stdout",
     "output_type": "stream",
     "text": [
      "<class 'pandas.core.frame.DataFrame'>\n",
      "RangeIndex: 50000 entries, 0 to 49999\n",
      "Data columns (total 14 columns):\n",
      " #   Column                 Non-Null Count  Dtype  \n",
      "---  ------                 --------------  -----  \n",
      " 0   num_passengers         50000 non-null  int64  \n",
      " 1   sales_channel          50000 non-null  object \n",
      " 2   trip_type              50000 non-null  object \n",
      " 3   purchase_lead          50000 non-null  int64  \n",
      " 4   length_of_stay         50000 non-null  int64  \n",
      " 5   flight_hour            50000 non-null  int64  \n",
      " 6   flight_day             50000 non-null  object \n",
      " 7   route                  50000 non-null  object \n",
      " 8   booking_origin         50000 non-null  object \n",
      " 9   wants_extra_baggage    50000 non-null  int64  \n",
      " 10  wants_preferred_seat   50000 non-null  int64  \n",
      " 11  wants_in_flight_meals  50000 non-null  int64  \n",
      " 12  flight_duration        50000 non-null  float64\n",
      " 13  booking_complete       50000 non-null  int64  \n",
      "dtypes: float64(1), int64(8), object(5)\n",
      "memory usage: 5.3+ MB\n"
     ]
    }
   ],
   "source": [
    "df.info()"
   ]
  },
  {
   "cell_type": "markdown",
   "metadata": {},
   "source": [
    "The `.info()` method gives us a data description, telling us the names of the columns, their data types and how many null values we have. Fortunately, we have no null values. It looks like some of these columns should be converted into different data types, e.g. flight_day.\n",
    "\n",
    "To provide more context, below is a more detailed data description, explaining exactly what each column means:\n",
    "\n",
    "- `num_passengers` = number of passengers travelling\n",
    "- `sales_channel` = sales channel booking was made on\n",
    "- `trip_type` = trip Type (Round Trip, One Way, Circle Trip)\n",
    "- `purchase_lead` = number of days between travel date and booking date\n",
    "- `length_of_stay` = number of days spent at destination\n",
    "- `flight_hour` = hour of flight departure\n",
    "- `flight_day` = day of week of flight departure\n",
    "- `route` = origin -> destination flight route\n",
    "- `booking_origin` = country from where booking was made\n",
    "- `wants_extra_baggage` = if the customer wanted extra baggage in the booking\n",
    "- `wants_preferred_seat` = if the customer wanted a preferred seat in the booking\n",
    "- `wants_in_flight_meals` = if the customer wanted in-flight meals in the booking\n",
    "- `flight_duration` = total duration of flight (in hours)\n",
    "- `booking_complete` = flag indicating if the customer completed the booking\n",
    "\n",
    "Before we compute any statistics on the data, lets do any necessary data conversion"
   ]
  },
  {
   "cell_type": "code",
   "execution_count": 4,
   "metadata": {},
   "outputs": [
    {
     "data": {
      "text/plain": [
       "array(['Sat', 'Wed', 'Thu', 'Mon', 'Sun', 'Tue', 'Fri'], dtype=object)"
      ]
     },
     "execution_count": 4,
     "metadata": {},
     "output_type": "execute_result"
    }
   ],
   "source": [
    "df[\"flight_day\"].unique()"
   ]
  },
  {
   "cell_type": "code",
   "execution_count": 5,
   "metadata": {},
   "outputs": [],
   "source": [
    "mapping = {\n",
    "    \"Mon\": 1,\n",
    "    \"Tue\": 2,\n",
    "    \"Wed\": 3,\n",
    "    \"Thu\": 4,\n",
    "    \"Fri\": 5,\n",
    "    \"Sat\": 6,\n",
    "    \"Sun\": 7,\n",
    "}\n",
    "\n",
    "df[\"flight_day\"] = df[\"flight_day\"].map(mapping)"
   ]
  },
  {
   "cell_type": "code",
   "execution_count": 6,
   "metadata": {},
   "outputs": [
    {
     "data": {
      "text/plain": [
       "array([6, 3, 4, 1, 7, 2, 5])"
      ]
     },
     "execution_count": 6,
     "metadata": {},
     "output_type": "execute_result"
    }
   ],
   "source": [
    "df[\"flight_day\"].unique()"
   ]
  },
  {
   "cell_type": "code",
   "execution_count": 7,
   "metadata": {},
   "outputs": [
    {
     "data": {
      "text/html": [
       "<div>\n",
       "<style scoped>\n",
       "    .dataframe tbody tr th:only-of-type {\n",
       "        vertical-align: middle;\n",
       "    }\n",
       "\n",
       "    .dataframe tbody tr th {\n",
       "        vertical-align: top;\n",
       "    }\n",
       "\n",
       "    .dataframe thead th {\n",
       "        text-align: right;\n",
       "    }\n",
       "</style>\n",
       "<table border=\"1\" class=\"dataframe\">\n",
       "  <thead>\n",
       "    <tr style=\"text-align: right;\">\n",
       "      <th></th>\n",
       "      <th>num_passengers</th>\n",
       "      <th>purchase_lead</th>\n",
       "      <th>length_of_stay</th>\n",
       "      <th>flight_hour</th>\n",
       "      <th>flight_day</th>\n",
       "      <th>wants_extra_baggage</th>\n",
       "      <th>wants_preferred_seat</th>\n",
       "      <th>wants_in_flight_meals</th>\n",
       "      <th>flight_duration</th>\n",
       "      <th>booking_complete</th>\n",
       "    </tr>\n",
       "  </thead>\n",
       "  <tbody>\n",
       "    <tr>\n",
       "      <th>count</th>\n",
       "      <td>50000.000000</td>\n",
       "      <td>50000.000000</td>\n",
       "      <td>50000.00000</td>\n",
       "      <td>50000.00000</td>\n",
       "      <td>50000.000000</td>\n",
       "      <td>50000.000000</td>\n",
       "      <td>50000.000000</td>\n",
       "      <td>50000.000000</td>\n",
       "      <td>50000.000000</td>\n",
       "      <td>50000.000000</td>\n",
       "    </tr>\n",
       "    <tr>\n",
       "      <th>mean</th>\n",
       "      <td>1.591240</td>\n",
       "      <td>84.940480</td>\n",
       "      <td>23.04456</td>\n",
       "      <td>9.06634</td>\n",
       "      <td>3.814420</td>\n",
       "      <td>0.668780</td>\n",
       "      <td>0.296960</td>\n",
       "      <td>0.427140</td>\n",
       "      <td>7.277561</td>\n",
       "      <td>0.149560</td>\n",
       "    </tr>\n",
       "    <tr>\n",
       "      <th>std</th>\n",
       "      <td>1.020165</td>\n",
       "      <td>90.451378</td>\n",
       "      <td>33.88767</td>\n",
       "      <td>5.41266</td>\n",
       "      <td>1.992792</td>\n",
       "      <td>0.470657</td>\n",
       "      <td>0.456923</td>\n",
       "      <td>0.494668</td>\n",
       "      <td>1.496863</td>\n",
       "      <td>0.356643</td>\n",
       "    </tr>\n",
       "    <tr>\n",
       "      <th>min</th>\n",
       "      <td>1.000000</td>\n",
       "      <td>0.000000</td>\n",
       "      <td>0.00000</td>\n",
       "      <td>0.00000</td>\n",
       "      <td>1.000000</td>\n",
       "      <td>0.000000</td>\n",
       "      <td>0.000000</td>\n",
       "      <td>0.000000</td>\n",
       "      <td>4.670000</td>\n",
       "      <td>0.000000</td>\n",
       "    </tr>\n",
       "    <tr>\n",
       "      <th>25%</th>\n",
       "      <td>1.000000</td>\n",
       "      <td>21.000000</td>\n",
       "      <td>5.00000</td>\n",
       "      <td>5.00000</td>\n",
       "      <td>2.000000</td>\n",
       "      <td>0.000000</td>\n",
       "      <td>0.000000</td>\n",
       "      <td>0.000000</td>\n",
       "      <td>5.620000</td>\n",
       "      <td>0.000000</td>\n",
       "    </tr>\n",
       "    <tr>\n",
       "      <th>50%</th>\n",
       "      <td>1.000000</td>\n",
       "      <td>51.000000</td>\n",
       "      <td>17.00000</td>\n",
       "      <td>9.00000</td>\n",
       "      <td>4.000000</td>\n",
       "      <td>1.000000</td>\n",
       "      <td>0.000000</td>\n",
       "      <td>0.000000</td>\n",
       "      <td>7.570000</td>\n",
       "      <td>0.000000</td>\n",
       "    </tr>\n",
       "    <tr>\n",
       "      <th>75%</th>\n",
       "      <td>2.000000</td>\n",
       "      <td>115.000000</td>\n",
       "      <td>28.00000</td>\n",
       "      <td>13.00000</td>\n",
       "      <td>5.000000</td>\n",
       "      <td>1.000000</td>\n",
       "      <td>1.000000</td>\n",
       "      <td>1.000000</td>\n",
       "      <td>8.830000</td>\n",
       "      <td>0.000000</td>\n",
       "    </tr>\n",
       "    <tr>\n",
       "      <th>max</th>\n",
       "      <td>9.000000</td>\n",
       "      <td>867.000000</td>\n",
       "      <td>778.00000</td>\n",
       "      <td>23.00000</td>\n",
       "      <td>7.000000</td>\n",
       "      <td>1.000000</td>\n",
       "      <td>1.000000</td>\n",
       "      <td>1.000000</td>\n",
       "      <td>9.500000</td>\n",
       "      <td>1.000000</td>\n",
       "    </tr>\n",
       "  </tbody>\n",
       "</table>\n",
       "</div>"
      ],
      "text/plain": [
       "       num_passengers  purchase_lead  length_of_stay  flight_hour  \\\n",
       "count    50000.000000   50000.000000     50000.00000  50000.00000   \n",
       "mean         1.591240      84.940480        23.04456      9.06634   \n",
       "std          1.020165      90.451378        33.88767      5.41266   \n",
       "min          1.000000       0.000000         0.00000      0.00000   \n",
       "25%          1.000000      21.000000         5.00000      5.00000   \n",
       "50%          1.000000      51.000000        17.00000      9.00000   \n",
       "75%          2.000000     115.000000        28.00000     13.00000   \n",
       "max          9.000000     867.000000       778.00000     23.00000   \n",
       "\n",
       "         flight_day  wants_extra_baggage  wants_preferred_seat  \\\n",
       "count  50000.000000         50000.000000          50000.000000   \n",
       "mean       3.814420             0.668780              0.296960   \n",
       "std        1.992792             0.470657              0.456923   \n",
       "min        1.000000             0.000000              0.000000   \n",
       "25%        2.000000             0.000000              0.000000   \n",
       "50%        4.000000             1.000000              0.000000   \n",
       "75%        5.000000             1.000000              1.000000   \n",
       "max        7.000000             1.000000              1.000000   \n",
       "\n",
       "       wants_in_flight_meals  flight_duration  booking_complete  \n",
       "count           50000.000000     50000.000000      50000.000000  \n",
       "mean                0.427140         7.277561          0.149560  \n",
       "std                 0.494668         1.496863          0.356643  \n",
       "min                 0.000000         4.670000          0.000000  \n",
       "25%                 0.000000         5.620000          0.000000  \n",
       "50%                 0.000000         7.570000          0.000000  \n",
       "75%                 1.000000         8.830000          0.000000  \n",
       "max                 1.000000         9.500000          1.000000  "
      ]
     },
     "execution_count": 7,
     "metadata": {},
     "output_type": "execute_result"
    }
   ],
   "source": [
    "df.describe()"
   ]
  },
  {
   "cell_type": "markdown",
   "metadata": {},
   "source": [
    "The `.describe()` method gives us a summary of descriptive statistics over the entire dataset (only works for numeric columns). This gives us a quick overview of a few things such as the mean, min, max and overall distribution of each column.\n",
    "\n",
    "From this point, you should continue exploring the dataset with some visualisations and other metrics that you think may be useful. Then, you should prepare your dataset for predictive modelling. Finally, you should train your machine learning model, evaluate it with performance metrics and output visualisations for the contributing variables. All of this analysis should be summarised in your single slide."
   ]
  },
  {
   "cell_type": "markdown",
   "metadata": {},
   "source": [
    "# Ideas - Analyze: \n",
    "1. Clean data: Check for missing value, null value, etc. \n",
    "2. Visualizing: using histograms, box plots for variables like purchase led time, and flight durations. \n",
    "3. Correlation analysis: identify relationships, answer questions: does longer purchase lead time increase booking completion?\n",
    "4. Segment passengers: checking and group travelers based on their behaviors (solo or in group)"
   ]
  },
  {
   "cell_type": "code",
   "execution_count": 8,
   "metadata": {},
   "outputs": [
    {
     "data": {
      "text/plain": [
       "num_passengers           0\n",
       "sales_channel            0\n",
       "trip_type                0\n",
       "purchase_lead            0\n",
       "length_of_stay           0\n",
       "flight_hour              0\n",
       "flight_day               0\n",
       "route                    0\n",
       "booking_origin           0\n",
       "wants_extra_baggage      0\n",
       "wants_preferred_seat     0\n",
       "wants_in_flight_meals    0\n",
       "flight_duration          0\n",
       "booking_complete         0\n",
       "dtype: int64"
      ]
     },
     "execution_count": 8,
     "metadata": {},
     "output_type": "execute_result"
    }
   ],
   "source": [
    "# 1. Clean data:\n",
    "#check for missing value: \n",
    "df.isnull().sum()"
   ]
  },
  {
   "cell_type": "markdown",
   "metadata": {},
   "source": [
    "Conclusion: There is no missing data, or null value -> OK to continue"
   ]
  },
  {
   "cell_type": "code",
   "execution_count": 9,
   "metadata": {},
   "outputs": [
    {
     "name": "stderr",
     "output_type": "stream",
     "text": [
      "/var/folders/8l/3v0qcjcs3v53vjdw26w63wgr0000gn/T/ipykernel_10364/3740457870.py:9: UserWarning: To output multiple subplots, the figure containing the passed axes is being cleared.\n",
      "  df.hist(grid=False, edgecolor = 'black', ax=ax)\n"
     ]
    },
    {
     "data": {
      "text/plain": [
       "array([[<Axes: title={'center': 'num_passengers'}>,\n",
       "        <Axes: title={'center': 'purchase_lead'}>,\n",
       "        <Axes: title={'center': 'length_of_stay'}>],\n",
       "       [<Axes: title={'center': 'flight_hour'}>,\n",
       "        <Axes: title={'center': 'flight_day'}>,\n",
       "        <Axes: title={'center': 'wants_extra_baggage'}>],\n",
       "       [<Axes: title={'center': 'wants_preferred_seat'}>,\n",
       "        <Axes: title={'center': 'wants_in_flight_meals'}>,\n",
       "        <Axes: title={'center': 'flight_duration'}>],\n",
       "       [<Axes: title={'center': 'booking_complete'}>, <Axes: >, <Axes: >]],\n",
       "      dtype=object)"
      ]
     },
     "execution_count": 9,
     "metadata": {},
     "output_type": "execute_result"
    },
    {
     "data": {
      "image/png": "[encoded data removed]",
      "text/plain": [
       "<Figure size 2000x1000 with 12 Axes>"
      ]
     },
     "metadata": {},
     "output_type": "display_data"
    }
   ],
   "source": [
    "#2. Visualizing: \n",
    "#Plot histogram: Since I want to display the plot more beautifully\n",
    "\n",
    "import matplotlib.pyplot as plt\n",
    "fig = plt.figure(figsize=(20,10))\n",
    "ax = fig.gca()\n",
    "\n",
    "#create histogram using specified figure size\n",
    "df.hist(grid=False, edgecolor = 'black', ax=ax)"
   ]
  },
  {
   "cell_type": "markdown",
   "metadata": {},
   "source": [
    "A histogram: is a distribution of data. Using histograms when you have continuous measurements and want to understand the distribution of values and look for outliers. \n",
    "\n",
    "There are some models: \n",
    "- Unimodal distributions: has a single peak or mode\n",
    "- Bimodal distribution: has 2 distinct peaks or modes\n",
    "\n"
   ]
  },
  {
   "cell_type": "markdown",
   "metadata": {},
   "source": [
    "# Findings: \n",
    "- The number of customers who are solo travelers are larger than traveling in groups.\n",
    "- The 7-9 am flight are the most often booked when comparing to others. -> Offer more flights depart between 7-9am. Or at noon.\n",
    "- Usually, customers do not want preferred seat. -> Offer promotion for people to increase chance of buying seat.\n",
    "- Usually, customers booking is not completed. (0 means False, 1 means True) -> Could be because of website feature, difficult to complete the booking? -> offer more user-friendly, easy to book feature.\n",
    "\n"
   ]
  },
  {
   "cell_type": "code",
   "execution_count": 10,
   "metadata": {},
   "outputs": [
    {
     "data": {
      "text/html": [
       "<div>\n",
       "<style scoped>\n",
       "    .dataframe tbody tr th:only-of-type {\n",
       "        vertical-align: middle;\n",
       "    }\n",
       "\n",
       "    .dataframe tbody tr th {\n",
       "        vertical-align: top;\n",
       "    }\n",
       "\n",
       "    .dataframe thead th {\n",
       "        text-align: right;\n",
       "    }\n",
       "</style>\n",
       "<table border=\"1\" class=\"dataframe\">\n",
       "  <thead>\n",
       "    <tr style=\"text-align: right;\">\n",
       "      <th></th>\n",
       "      <th>num_passengers</th>\n",
       "      <th>purchase_lead</th>\n",
       "      <th>length_of_stay</th>\n",
       "      <th>flight_hour</th>\n",
       "      <th>flight_day</th>\n",
       "      <th>wants_extra_baggage</th>\n",
       "      <th>wants_preferred_seat</th>\n",
       "      <th>wants_in_flight_meals</th>\n",
       "      <th>flight_duration</th>\n",
       "      <th>booking_complete</th>\n",
       "    </tr>\n",
       "  </thead>\n",
       "  <tbody>\n",
       "    <tr>\n",
       "      <th>num_passengers</th>\n",
       "      <td>1.000000</td>\n",
       "      <td>0.212606</td>\n",
       "      <td>-0.115850</td>\n",
       "      <td>0.015607</td>\n",
       "      <td>0.015407</td>\n",
       "      <td>0.120404</td>\n",
       "      <td>0.028544</td>\n",
       "      <td>0.022943</td>\n",
       "      <td>-0.063169</td>\n",
       "      <td>0.024116</td>\n",
       "    </tr>\n",
       "    <tr>\n",
       "      <th>purchase_lead</th>\n",
       "      <td>0.212606</td>\n",
       "      <td>1.000000</td>\n",
       "      <td>-0.076560</td>\n",
       "      <td>0.035973</td>\n",
       "      <td>0.036531</td>\n",
       "      <td>-0.022207</td>\n",
       "      <td>-0.004499</td>\n",
       "      <td>-0.022653</td>\n",
       "      <td>0.067866</td>\n",
       "      <td>-0.022131</td>\n",
       "    </tr>\n",
       "    <tr>\n",
       "      <th>length_of_stay</th>\n",
       "      <td>-0.115850</td>\n",
       "      <td>-0.076560</td>\n",
       "      <td>1.000000</td>\n",
       "      <td>-0.024872</td>\n",
       "      <td>-0.000310</td>\n",
       "      <td>0.176757</td>\n",
       "      <td>0.032264</td>\n",
       "      <td>0.098828</td>\n",
       "      <td>0.141181</td>\n",
       "      <td>-0.042408</td>\n",
       "    </tr>\n",
       "    <tr>\n",
       "      <th>flight_hour</th>\n",
       "      <td>0.015607</td>\n",
       "      <td>0.035973</td>\n",
       "      <td>-0.024872</td>\n",
       "      <td>1.000000</td>\n",
       "      <td>0.024086</td>\n",
       "      <td>-0.011434</td>\n",
       "      <td>0.012171</td>\n",
       "      <td>0.013014</td>\n",
       "      <td>-0.002101</td>\n",
       "      <td>0.007127</td>\n",
       "    </tr>\n",
       "    <tr>\n",
       "      <th>flight_day</th>\n",
       "      <td>0.015407</td>\n",
       "      <td>0.036531</td>\n",
       "      <td>-0.000310</td>\n",
       "      <td>0.024086</td>\n",
       "      <td>1.000000</td>\n",
       "      <td>-0.002503</td>\n",
       "      <td>0.005392</td>\n",
       "      <td>0.009281</td>\n",
       "      <td>0.018434</td>\n",
       "      <td>-0.006986</td>\n",
       "    </tr>\n",
       "    <tr>\n",
       "      <th>wants_extra_baggage</th>\n",
       "      <td>0.120404</td>\n",
       "      <td>-0.022207</td>\n",
       "      <td>0.176757</td>\n",
       "      <td>-0.011434</td>\n",
       "      <td>-0.002503</td>\n",
       "      <td>1.000000</td>\n",
       "      <td>0.207669</td>\n",
       "      <td>0.216470</td>\n",
       "      <td>0.057054</td>\n",
       "      <td>0.068139</td>\n",
       "    </tr>\n",
       "    <tr>\n",
       "      <th>wants_preferred_seat</th>\n",
       "      <td>0.028544</td>\n",
       "      <td>-0.004499</td>\n",
       "      <td>0.032264</td>\n",
       "      <td>0.012171</td>\n",
       "      <td>0.005392</td>\n",
       "      <td>0.207669</td>\n",
       "      <td>1.000000</td>\n",
       "      <td>0.315088</td>\n",
       "      <td>0.101289</td>\n",
       "      <td>0.050116</td>\n",
       "    </tr>\n",
       "    <tr>\n",
       "      <th>wants_in_flight_meals</th>\n",
       "      <td>0.022943</td>\n",
       "      <td>-0.022653</td>\n",
       "      <td>0.098828</td>\n",
       "      <td>0.013014</td>\n",
       "      <td>0.009281</td>\n",
       "      <td>0.216470</td>\n",
       "      <td>0.315088</td>\n",
       "      <td>1.000000</td>\n",
       "      <td>0.154312</td>\n",
       "      <td>0.026511</td>\n",
       "    </tr>\n",
       "    <tr>\n",
       "      <th>flight_duration</th>\n",
       "      <td>-0.063169</td>\n",
       "      <td>0.067866</td>\n",
       "      <td>0.141181</td>\n",
       "      <td>-0.002101</td>\n",
       "      <td>0.018434</td>\n",
       "      <td>0.057054</td>\n",
       "      <td>0.101289</td>\n",
       "      <td>0.154312</td>\n",
       "      <td>1.000000</td>\n",
       "      <td>-0.106266</td>\n",
       "    </tr>\n",
       "    <tr>\n",
       "      <th>booking_complete</th>\n",
       "      <td>0.024116</td>\n",
       "      <td>-0.022131</td>\n",
       "      <td>-0.042408</td>\n",
       "      <td>0.007127</td>\n",
       "      <td>-0.006986</td>\n",
       "      <td>0.068139</td>\n",
       "      <td>0.050116</td>\n",
       "      <td>0.026511</td>\n",
       "      <td>-0.106266</td>\n",
       "      <td>1.000000</td>\n",
       "    </tr>\n",
       "  </tbody>\n",
       "</table>\n",
       "</div>"
      ],
      "text/plain": [
       "                       num_passengers  purchase_lead  length_of_stay  \\\n",
       "num_passengers               1.000000       0.212606       -0.115850   \n",
       "purchase_lead                0.212606       1.000000       -0.076560   \n",
       "length_of_stay              -0.115850      -0.076560        1.000000   \n",
       "flight_hour                  0.015607       0.035973       -0.024872   \n",
       "flight_day                   0.015407       0.036531       -0.000310   \n",
       "wants_extra_baggage          0.120404      -0.022207        0.176757   \n",
       "wants_preferred_seat         0.028544      -0.004499        0.032264   \n",
       "wants_in_flight_meals        0.022943      -0.022653        0.098828   \n",
       "flight_duration             -0.063169       0.067866        0.141181   \n",
       "booking_complete             0.024116      -0.022131       -0.042408   \n",
       "\n",
       "                       flight_hour  flight_day  wants_extra_baggage  \\\n",
       "num_passengers            0.015607    0.015407             0.120404   \n",
       "purchase_lead             0.035973    0.036531            -0.022207   \n",
       "length_of_stay           -0.024872   -0.000310             0.176757   \n",
       "flight_hour               1.000000    0.024086            -0.011434   \n",
       "flight_day                0.024086    1.000000            -0.002503   \n",
       "wants_extra_baggage      -0.011434   -0.002503             1.000000   \n",
       "wants_preferred_seat      0.012171    0.005392             0.207669   \n",
       "wants_in_flight_meals     0.013014    0.009281             0.216470   \n",
       "flight_duration          -0.002101    0.018434             0.057054   \n",
       "booking_complete          0.007127   -0.006986             0.068139   \n",
       "\n",
       "                       wants_preferred_seat  wants_in_flight_meals  \\\n",
       "num_passengers                     0.028544               0.022943   \n",
       "purchase_lead                     -0.004499              -0.022653   \n",
       "length_of_stay                     0.032264               0.098828   \n",
       "flight_hour                        0.012171               0.013014   \n",
       "flight_day                         0.005392               0.009281   \n",
       "wants_extra_baggage                0.207669               0.216470   \n",
       "wants_preferred_seat               1.000000               0.315088   \n",
       "wants_in_flight_meals              0.315088               1.000000   \n",
       "flight_duration                    0.101289               0.154312   \n",
       "booking_complete                   0.050116               0.026511   \n",
       "\n",
       "                       flight_duration  booking_complete  \n",
       "num_passengers               -0.063169          0.024116  \n",
       "purchase_lead                 0.067866         -0.022131  \n",
       "length_of_stay                0.141181         -0.042408  \n",
       "flight_hour                  -0.002101          0.007127  \n",
       "flight_day                    0.018434         -0.006986  \n",
       "wants_extra_baggage           0.057054          0.068139  \n",
       "wants_preferred_seat          0.101289          0.050116  \n",
       "wants_in_flight_meals         0.154312          0.026511  \n",
       "flight_duration               1.000000         -0.106266  \n",
       "booking_complete             -0.106266          1.000000  "
      ]
     },
     "execution_count": 10,
     "metadata": {},
     "output_type": "execute_result"
    }
   ],
   "source": [
    "# 3. Analyze the correlations: using df.corr() to find relationships between features\n",
    "\n",
    "df.corr(numeric_only=True) #only include numeric values"
   ]
  },
  {
   "cell_type": "markdown",
   "metadata": {},
   "source": [
    "A correlation matrix helps identify the relationships between features -> Measure of the linear association between 2 variables, has the value between -1 and 1. \n",
    "- -1: perfectly negative linear correlation between 2 variables. \n",
    "- 0: no linear correlation between 2 variables. \n",
    "- 1: perfectlt positive linear correlation between 2 variables. \n",
    "\n",
    "# Findings: \n",
    "- The longer the flight day, the lowest chance of booking complete -> Offer more and shorter flight day to increase the booking complete chance. \n"
   ]
  },
  {
   "cell_type": "code",
   "execution_count": 11,
   "metadata": {},
   "outputs": [
    {
     "data": {
      "text/html": [
       "<div>\n",
       "<style scoped>\n",
       "    .dataframe tbody tr th:only-of-type {\n",
       "        vertical-align: middle;\n",
       "    }\n",
       "\n",
       "    .dataframe tbody tr th {\n",
       "        vertical-align: top;\n",
       "    }\n",
       "\n",
       "    .dataframe thead th {\n",
       "        text-align: right;\n",
       "    }\n",
       "</style>\n",
       "<table border=\"1\" class=\"dataframe\">\n",
       "  <thead>\n",
       "    <tr style=\"text-align: right;\">\n",
       "      <th></th>\n",
       "      <th>purchase_lead</th>\n",
       "      <th>length_of_stay</th>\n",
       "      <th>flight_hour</th>\n",
       "      <th>flight_day</th>\n",
       "      <th>wants_extra_baggage</th>\n",
       "      <th>wants_preferred_seat</th>\n",
       "      <th>wants_in_flight_meals</th>\n",
       "      <th>flight_duration</th>\n",
       "      <th>booking_complete</th>\n",
       "    </tr>\n",
       "    <tr>\n",
       "      <th>num_passengers</th>\n",
       "      <th></th>\n",
       "      <th></th>\n",
       "      <th></th>\n",
       "      <th></th>\n",
       "      <th></th>\n",
       "      <th></th>\n",
       "      <th></th>\n",
       "      <th></th>\n",
       "      <th></th>\n",
       "    </tr>\n",
       "  </thead>\n",
       "  <tbody>\n",
       "    <tr>\n",
       "      <th>1</th>\n",
       "      <td>68.787797</td>\n",
       "      <td>26.054542</td>\n",
       "      <td>8.983701</td>\n",
       "      <td>3.785181</td>\n",
       "      <td>0.623501</td>\n",
       "      <td>0.279217</td>\n",
       "      <td>0.421121</td>\n",
       "      <td>7.334135</td>\n",
       "      <td>0.142096</td>\n",
       "    </tr>\n",
       "    <tr>\n",
       "      <th>2</th>\n",
       "      <td>105.661903</td>\n",
       "      <td>19.555373</td>\n",
       "      <td>9.200875</td>\n",
       "      <td>3.851375</td>\n",
       "      <td>0.721571</td>\n",
       "      <td>0.329428</td>\n",
       "      <td>0.423461</td>\n",
       "      <td>7.230318</td>\n",
       "      <td>0.160184</td>\n",
       "    </tr>\n",
       "    <tr>\n",
       "      <th>3</th>\n",
       "      <td>117.935736</td>\n",
       "      <td>15.901054</td>\n",
       "      <td>9.113567</td>\n",
       "      <td>3.870112</td>\n",
       "      <td>0.774906</td>\n",
       "      <td>0.326420</td>\n",
       "      <td>0.462428</td>\n",
       "      <td>7.120561</td>\n",
       "      <td>0.166950</td>\n",
       "    </tr>\n",
       "    <tr>\n",
       "      <th>4</th>\n",
       "      <td>136.809978</td>\n",
       "      <td>14.293722</td>\n",
       "      <td>9.307175</td>\n",
       "      <td>3.934417</td>\n",
       "      <td>0.816704</td>\n",
       "      <td>0.334641</td>\n",
       "      <td>0.485987</td>\n",
       "      <td>7.114496</td>\n",
       "      <td>0.154148</td>\n",
       "    </tr>\n",
       "    <tr>\n",
       "      <th>5</th>\n",
       "      <td>138.008913</td>\n",
       "      <td>12.818182</td>\n",
       "      <td>9.743316</td>\n",
       "      <td>4.019608</td>\n",
       "      <td>0.832442</td>\n",
       "      <td>0.319073</td>\n",
       "      <td>0.458111</td>\n",
       "      <td>7.135437</td>\n",
       "      <td>0.194296</td>\n",
       "    </tr>\n",
       "    <tr>\n",
       "      <th>6</th>\n",
       "      <td>129.332180</td>\n",
       "      <td>10.740484</td>\n",
       "      <td>8.885813</td>\n",
       "      <td>3.775087</td>\n",
       "      <td>0.816609</td>\n",
       "      <td>0.283737</td>\n",
       "      <td>0.467128</td>\n",
       "      <td>6.865052</td>\n",
       "      <td>0.186851</td>\n",
       "    </tr>\n",
       "    <tr>\n",
       "      <th>7</th>\n",
       "      <td>119.464912</td>\n",
       "      <td>9.228070</td>\n",
       "      <td>9.140351</td>\n",
       "      <td>3.833333</td>\n",
       "      <td>0.850877</td>\n",
       "      <td>0.236842</td>\n",
       "      <td>0.491228</td>\n",
       "      <td>6.574298</td>\n",
       "      <td>0.157895</td>\n",
       "    </tr>\n",
       "    <tr>\n",
       "      <th>8</th>\n",
       "      <td>117.337079</td>\n",
       "      <td>10.719101</td>\n",
       "      <td>9.056180</td>\n",
       "      <td>3.494382</td>\n",
       "      <td>0.730337</td>\n",
       "      <td>0.235955</td>\n",
       "      <td>0.359551</td>\n",
       "      <td>6.485730</td>\n",
       "      <td>0.134831</td>\n",
       "    </tr>\n",
       "    <tr>\n",
       "      <th>9</th>\n",
       "      <td>116.878788</td>\n",
       "      <td>6.257576</td>\n",
       "      <td>8.530303</td>\n",
       "      <td>3.636364</td>\n",
       "      <td>0.772727</td>\n",
       "      <td>0.151515</td>\n",
       "      <td>0.378788</td>\n",
       "      <td>6.268939</td>\n",
       "      <td>0.196970</td>\n",
       "    </tr>\n",
       "  </tbody>\n",
       "</table>\n",
       "</div>"
      ],
      "text/plain": [
       "                purchase_lead  length_of_stay  flight_hour  flight_day  \\\n",
       "num_passengers                                                           \n",
       "1                   68.787797       26.054542     8.983701    3.785181   \n",
       "2                  105.661903       19.555373     9.200875    3.851375   \n",
       "3                  117.935736       15.901054     9.113567    3.870112   \n",
       "4                  136.809978       14.293722     9.307175    3.934417   \n",
       "5                  138.008913       12.818182     9.743316    4.019608   \n",
       "6                  129.332180       10.740484     8.885813    3.775087   \n",
       "7                  119.464912        9.228070     9.140351    3.833333   \n",
       "8                  117.337079       10.719101     9.056180    3.494382   \n",
       "9                  116.878788        6.257576     8.530303    3.636364   \n",
       "\n",
       "                wants_extra_baggage  wants_preferred_seat  \\\n",
       "num_passengers                                              \n",
       "1                          0.623501              0.279217   \n",
       "2                          0.721571              0.329428   \n",
       "3                          0.774906              0.326420   \n",
       "4                          0.816704              0.334641   \n",
       "5                          0.832442              0.319073   \n",
       "6                          0.816609              0.283737   \n",
       "7                          0.850877              0.236842   \n",
       "8                          0.730337              0.235955   \n",
       "9                          0.772727              0.151515   \n",
       "\n",
       "                wants_in_flight_meals  flight_duration  booking_complete  \n",
       "num_passengers                                                            \n",
       "1                            0.421121         7.334135          0.142096  \n",
       "2                            0.423461         7.230318          0.160184  \n",
       "3                            0.462428         7.120561          0.166950  \n",
       "4                            0.485987         7.114496          0.154148  \n",
       "5                            0.458111         7.135437          0.194296  \n",
       "6                            0.467128         6.865052          0.186851  \n",
       "7                            0.491228         6.574298          0.157895  \n",
       "8                            0.359551         6.485730          0.134831  \n",
       "9                            0.378788         6.268939          0.196970  "
      ]
     },
     "execution_count": 11,
     "metadata": {},
     "output_type": "execute_result"
    }
   ],
   "source": [
    "#4. Segment passengers: \n",
    "\n",
    "df.groupby(\"num_passengers\").mean(numeric_only=True)"
   ]
  },
  {
   "cell_type": "markdown",
   "metadata": {},
   "source": [
    "# Findings: \n",
    "- Avg purchase_lead (time between booking and destination) of solo traveler is 68 days -> Solo travelers tend to book trip spontanuously, and has the flexible time. \n",
    "- Avg lenght of stay (time stay at the destination) of a couple are 19 days, more than when going in a group of 9 people (6 days) and less than time staying of a solo traveler (26 days) -> Offer group promotion? "
   ]
  },
  {
   "cell_type": "code",
   "execution_count": 12,
   "metadata": {},
   "outputs": [
    {
     "data": {
      "text/plain": [
       "flight_day\n",
       "1    0.148605\n",
       "2    0.147139\n",
       "3    0.163148\n",
       "4    0.151131\n",
       "5    0.145393\n",
       "6    0.148142\n",
       "7    0.141440\n",
       "Name: booking_complete, dtype: float64"
      ]
     },
     "execution_count": 12,
     "metadata": {},
     "output_type": "execute_result"
    }
   ],
   "source": [
    "#5. Identify booking trend: investigate which days/flight have more completed bookings\n",
    "df.groupby('flight_day')['booking_complete'].mean()"
   ]
  },
  {
   "cell_type": "markdown",
   "metadata": {},
   "source": [
    "# Findings: \n",
    "    \"Mon\": 1,\n",
    "    \"Tue\": 2,\n",
    "    \"Wed\": 3,\n",
    "    \"Thu\": 4,\n",
    "    \"Fri\": 5,\n",
    "    \"Sat\": 6,\n",
    "    \"Sun\": 7,\n",
    "- On the avg, people tend to book a plane ticket more often on Tuesday than on Sunday -> Have a little of booking secret gift for customers who book a flight a Sunday to increase the booking complete chance?"
   ]
  },
  {
   "cell_type": "markdown",
   "metadata": {},
   "source": [
    "# Ideas - Tranform data: to create more predictive features.\n",
    "1. Time-related feature: \n",
    "- Comvert flight_day into weekday vs. weekend\n",
    "- Extract month or season from purchase lead time. \n",
    "2. Behavioral insights: \n",
    "- Compute: avg_lead_time_per_user (avg time a user books flights in advance)\n",
    "- Compute: extra_features_sum (wants_extra_baggage + wants_preferred_seat + wants_in_flight_meals) to see if some travelers consistently opt for extras.\n",
    "3. Categorization:\n",
    "- Convert flight_hour into morning/afternoon/evening categories.\n",
    "- Bin flight_duration into short-haul, medium-haul, and long-haul groups.\n"
   ]
  },
  {
   "cell_type": "code",
   "execution_count": 13,
   "metadata": {},
   "outputs": [
    {
     "data": {
      "text/plain": [
       "is_weekend\n",
       "0    0.151193\n",
       "1    0.144590\n",
       "Name: booking_complete, dtype: float64"
      ]
     },
     "execution_count": 13,
     "metadata": {},
     "output_type": "execute_result"
    }
   ],
   "source": [
    "#1. Time-based feature: \n",
    "df[\"is_weekend\"] = df[\"flight_day\"].apply(lambda x: 1 if x in [6,7] else 0)\n",
    "df.groupby(\"is_weekend\")[\"booking_complete\"].mean()\n",
    "#0 is weekend, 1 is weekdays"
   ]
  },
  {
   "cell_type": "code",
   "execution_count": 14,
   "metadata": {},
   "outputs": [
    {
     "data": {
      "image/png": "[encoded data removed]",
      "text/plain": [
       "<Figure size 640x480 with 1 Axes>"
      ]
     },
     "metadata": {},
     "output_type": "display_data"
    }
   ],
   "source": [
    "import seaborn as sns\n",
    "import matplotlib.pyplot as plt\n",
    "\n",
    "chart = sns.barplot(x=df[\"is_weekend\"], y=df[\"booking_complete\"])\n",
    "plt.title(\"Booking Completion Rate by Weekend/Weekday\")\n",
    "plt.xlabel(\"is_weekend\")\n",
    "plt.ylabel(\"Completion Rate\")\n",
    "plt.show()"
   ]
  },
  {
   "cell_type": "code",
   "execution_count": 15,
   "metadata": {},
   "outputs": [
    {
     "data": {
      "text/plain": [
       "season\n",
       "Off-Peak    0.153415\n",
       "Peak        0.137139\n",
       "Name: booking_complete, dtype: float64"
      ]
     },
     "execution_count": 15,
     "metadata": {},
     "output_type": "execute_result"
    }
   ],
   "source": [
    "df[\"season\"] = df[\"purchase_lead\"].apply(lambda x: \"Peak\" if x > 120 else \"Off-Peak\")\n",
    "df.groupby(\"season\")[\"booking_complete\"].mean()"
   ]
  },
  {
   "cell_type": "code",
   "execution_count": 16,
   "metadata": {},
   "outputs": [
    {
     "data": {
      "image/png": "[encoded data removed]",
      "text/plain": [
       "<Figure size 640x480 with 1 Axes>"
      ]
     },
     "metadata": {},
     "output_type": "display_data"
    }
   ],
   "source": [
    "import seaborn as sns\n",
    "import matplotlib.pyplot as plt\n",
    "\n",
    "sns.barplot(x=df[\"season\"], y=df[\"booking_complete\"])\n",
    "plt.title(\"Booking Completion Rate by Season\")\n",
    "plt.xlabel(\"Season\")\n",
    "plt.ylabel(\"Completion Rate\")\n",
    "plt.show()"
   ]
  },
  {
   "cell_type": "code",
   "execution_count": 17,
   "metadata": {},
   "outputs": [
    {
     "data": {
      "text/plain": [
       "time_of_day\n",
       "Afternoon    0.166703\n",
       "Morning      0.145252\n",
       "Night        0.118421\n",
       "Name: booking_complete, dtype: float64"
      ]
     },
     "execution_count": 17,
     "metadata": {},
     "output_type": "execute_result"
    }
   ],
   "source": [
    "#if late-night flights have different booking completion rates.\n",
    "df[\"time_of_day\"] = df[\"flight_hour\"].apply(lambda x: \"Morning\" if x < 12 else \"Afternoon\" if x < 18 else \"Night\")\n",
    "df.groupby(\"time_of_day\")[\"booking_complete\"].mean()\n"
   ]
  },
  {
   "cell_type": "code",
   "execution_count": 18,
   "metadata": {},
   "outputs": [
    {
     "data": {
      "image/png": "[encoded data removed]",
      "text/plain": [
       "<Figure size 640x480 with 1 Axes>"
      ]
     },
     "metadata": {},
     "output_type": "display_data"
    }
   ],
   "source": [
    "import seaborn as sns\n",
    "import matplotlib.pyplot as plt\n",
    "\n",
    "sns.barplot(x=df[\"time_of_day\"], y=df[\"booking_complete\"])\n",
    "plt.title(\"Booking Completion Rate by Time of Day\")\n",
    "plt.xlabel(\"Time of Day\")\n",
    "plt.ylabel(\"Completion Rate\")\n",
    "plt.show()\n"
   ]
  },
  {
   "cell_type": "code",
   "execution_count": 19,
   "metadata": {},
   "outputs": [
    {
     "data": {
      "text/plain": [
       "extras_purchased\n",
       "0    0.106743\n",
       "1    0.149594\n",
       "2    0.159726\n",
       "3    0.185975\n",
       "Name: booking_complete, dtype: float64"
      ]
     },
     "execution_count": 19,
     "metadata": {},
     "output_type": "execute_result"
    }
   ],
   "source": [
    "#Higher values suggest high-intent customers (more likely to complete bookings)\n",
    "df[\"extras_purchased\"] = df[\"wants_extra_baggage\"] + df[\"wants_preferred_seat\"] + df[\"wants_in_flight_meals\"]\n",
    "df.groupby(\"extras_purchased\")[\"booking_complete\"].mean()\n"
   ]
  },
  {
   "cell_type": "code",
   "execution_count": 20,
   "metadata": {},
   "outputs": [
    {
     "data": {
      "image/png": "[encoded data removed]",
      "text/plain": [
       "<Figure size 640x480 with 1 Axes>"
      ]
     },
     "metadata": {},
     "output_type": "display_data"
    }
   ],
   "source": [
    "import seaborn as sns\n",
    "import matplotlib.pyplot as plt\n",
    "\n",
    "sns.barplot(x=df[\"extras_purchased\"], y=df[\"booking_complete\"])\n",
    "plt.title(\"Booking Completion Rate by extras purchase options\")\n",
    "plt.xlabel(\"Extras purchased\")\n",
    "plt.ylabel(\"Completion Rate\")\n",
    "plt.show()\n"
   ]
  },
  {
   "cell_type": "code",
   "execution_count": 26,
   "metadata": {},
   "outputs": [
    {
     "data": {
      "text/plain": [
       "0    1.509217\n",
       "1    0.645161\n",
       "2    1.399770\n",
       "3    0.552995\n",
       "4    0.391705\n",
       "5    0.017281\n",
       "6    1.157834\n",
       "7    1.370968\n",
       "8    0.460829\n",
       "9    2.177419\n",
       "Name: route_lead_ratio, dtype: float64"
      ]
     },
     "execution_count": 26,
     "metadata": {},
     "output_type": "execute_result"
    }
   ],
   "source": [
    "#investigate if the customers book a trip quicker or later than expected for a route\n",
    "route_lead_avg = df.groupby(\"route\")[\"purchase_lead\"].mean()\n",
    "df[\"route_lead_ratio\"] = df[\"purchase_lead\"] / df[\"route\"].map(route_lead_avg)\n",
    "df[\"route_lead_ratio\"].head(10)\n",
    "\n",
    "#df['route_lead_ratio] compares each passenger's purchase lead time againts the avg for their flight route\n",
    "\n",
    "#Division (purchase_lead / route_lead_avg) creates a ratio:\n",
    "#>1 → The passenger booked much earlier than usual for this route.\n",
    "#<1 → The passenger booked later than the typical lead time.\n"
   ]
  },
  {
   "cell_type": "code",
   "execution_count": 27,
   "metadata": {},
   "outputs": [
    {
     "data": {
      "image/png": "[encoded data removed]",
      "text/plain": [
       "<Figure size 640x480 with 1 Axes>"
      ]
     },
     "metadata": {},
     "output_type": "display_data"
    }
   ],
   "source": [
    "#Investigate the differrent group size habits\n",
    "df[\"group_size_category\"] = df[\"num_passengers\"].apply(lambda x: \"Solo\" if x == 1 else \"Small Group\" if x < 4 else \"Large Group\")\n",
    "df.groupby(\"group_size_category\")[\"booking_complete\"].mean()\n",
    "\n",
    "sns.barplot(x=df[\"group_size_category\"], y=df[\"booking_complete\"])\n",
    "plt.title(\"Booking Completion Rate by Group Size\")\n",
    "plt.xlabel(\"Group Size\")\n",
    "plt.ylabel(\"Completion Rate\")\n",
    "plt.show()\n"
   ]
  },
  {
   "cell_type": "code",
   "execution_count": 47,
   "metadata": {},
   "outputs": [
    {
     "name": "stdout",
     "output_type": "stream",
     "text": [
      "Total number of Circle Trip: 116\n",
      "Total number of Round Trip: 49497\n",
      "Total number of One Way Trip: 387\n"
     ]
    }
   ],
   "source": [
    "#convert trip type to numeric format for ML\n",
    "df[\"trip_type_binary\"] = df[\"trip_type\"].map({\"RoundTrip\": 0, \"OneWay\": 1, \"CircleTrip\": 2})\n",
    "print('Total number of Circle Trip:', df['trip_type'].value_counts().get('CircleTrip', 0))\n",
    "print('Total number of Round Trip:', df['trip_type'].value_counts().get('RoundTrip', 0))\n",
    "print('Total number of One Way Trip:', df['trip_type'].value_counts().get('OneWay', 0))"
   ]
  },
  {
   "cell_type": "code",
   "execution_count": 53,
   "metadata": {},
   "outputs": [
    {
     "data": {
      "text/plain": [
       "lead_stay_ratio\n",
       "0.000000      0.113514\n",
       "0.002500      1.000000\n",
       "0.002959      1.000000\n",
       "0.004115      1.000000\n",
       "0.004587      1.000000\n",
       "                ...   \n",
       "138.666667    0.000000\n",
       "139.000000    0.000000\n",
       "139.666667    0.000000\n",
       "141.666667    0.000000\n",
       "213.000000    0.000000\n",
       "Name: booking_complete, Length: 8556, dtype: float64"
      ]
     },
     "execution_count": 53,
     "metadata": {},
     "output_type": "execute_result"
    }
   ],
   "source": [
    "#4. Interaction Features:\n",
    "# Investigate if short trips are often book last minutes\n",
    "\n",
    "df[\"lead_stay_ratio\"] = df[\"purchase_lead\"] / (df[\"length_of_stay\"] + 1)\n",
    "\n",
    "df.groupby(\"lead_stay_ratio\")[\"booking_complete\"].mean()\n",
    "\n"
   ]
  },
  {
   "cell_type": "markdown",
   "metadata": {},
   "source": [
    "Meanings:\n",
    "---\n",
    "Higher ratio (>1) → The traveler booked well in advance compared to their trip length (suggests careful planning).\n",
    "Lower ratio (<1) → Booking was last-minute compared to the trip length (may indicate spontaneous or urgent travel).\n",
    "Business vs. Leisure Travel → Short stays with high purchase lead times could indicate business travelers, while longer stays with late bookings may suggest leisure travelers."
   ]
  },
  {
   "cell_type": "code",
   "execution_count": 52,
   "metadata": {},
   "outputs": [
    {
     "data": {
      "text/plain": [
       "preference_score\n",
       "0.00     0.106743\n",
       "4.67     0.243986\n",
       "4.72     0.231132\n",
       "4.75     0.328395\n",
       "4.83     0.108108\n",
       "           ...   \n",
       "24.45    0.017544\n",
       "25.74    0.101110\n",
       "26.01    0.305882\n",
       "26.49    0.149166\n",
       "28.50    0.000000\n",
       "Name: booking_complete, Length: 63, dtype: float64"
      ]
     },
     "execution_count": 52,
     "metadata": {},
     "output_type": "execute_result"
    }
   ],
   "source": [
    "# Helps see if longer flights encourage more add-ons.\n",
    "df[\"preference_score\"] = df[\"extras_purchased\"] * df[\"flight_duration\"]\n",
    "df.groupby(\"preference_score\")[\"booking_complete\"].mean()\n"
   ]
  },
  {
   "cell_type": "markdown",
   "metadata": {},
   "source": [
    "\n",
    "# Ideas - Prepare data for Modeling:\n",
    "1. Preprocessing Data: \n",
    "- Ensuring the data is cleaned and ready for modeling. Steps: Handling missing values, encoding categorical variables (sales_channel, trip_type, route, and booking_origin, etc. into numerical representations)\n"
   ]
  },
  {
   "cell_type": "code",
   "execution_count": 56,
   "metadata": {},
   "outputs": [],
   "source": [
    "from sklearn.model_selection import train_test_split\n",
    "from sklearn.preprocessing import StandardScaler, OneHotEncoder\n",
    "from sklearn.compose import ColumnTransformer\n",
    "\n",
    "# Identify categorical & numerical features\n",
    "categorical_features = ['sales_channel', 'trip_type', 'flight_day', 'route', 'booking_origin']\n",
    "numerical_features = ['num_passengers', 'purchase_lead', 'length_of_stay', 'flight_hour', 'flight_duration']\n",
    "\n",
    "# Define preprocessing steps\n",
    "preprocessor = ColumnTransformer([\n",
    "    ('num', StandardScaler(), numerical_features),\n",
    "    ('cat', OneHotEncoder(handle_unknown='ignore'), categorical_features)\n",
    "])\n",
    "\n",
    "# Split data\n",
    "X = df.drop(columns=['booking_complete'])\n",
    "y = df['booking_complete']\n",
    "X_train, X_test, y_train, y_test = train_test_split(X, y, test_size=0.2, random_state=42)\n"
   ]
  },
  {
   "cell_type": "markdown",
   "metadata": {},
   "source": [
    "2. Choosing a model: \n",
    "- Considering booking_complete is a binary target (Y/N) or (0/1): \n",
    "    - Logistic Regression: Simple, interpretable, and effective.\n",
    "    - Random forest: Greate for captureing complex rela.\n",
    "    - XGBoost: Works well with structured data and handles missing values efficiently. "
   ]
  },
  {
   "cell_type": "code",
   "execution_count": 57,
   "metadata": {},
   "outputs": [
    {
     "name": "stdout",
     "output_type": "stream",
     "text": [
      "Model Accuracy: 0.85\n"
     ]
    }
   ],
   "source": [
    "from sklearn.ensemble import RandomForestClassifier\n",
    "from sklearn.pipeline import Pipeline\n",
    "from sklearn.metrics import accuracy_score\n",
    "\n",
    "# Create pipeline\n",
    "model = Pipeline([\n",
    "    ('preprocessor', preprocessor),\n",
    "    ('classifier', RandomForestClassifier(n_estimators=100, random_state=42))\n",
    "])\n",
    "\n",
    "# Train model\n",
    "model.fit(X_train, y_train)\n",
    "\n",
    "# Make predictions\n",
    "y_pred = model.predict(X_test)\n",
    "\n",
    "# Evaluate performance\n",
    "accuracy = accuracy_score(y_test, y_pred)\n",
    "print(f'Model Accuracy: {accuracy:.2f}')\n"
   ]
  }
 ],
 "metadata": {
  "kernelspec": {
   "display_name": "Python 3.9.13 ('venv': venv)",
   "language": "python",
   "name": "python3"
  },
  "language_info": {
   "codemirror_mode": {
    "name": "ipython",
    "version": 3
   },
   "file_extension": ".py",
   "mimetype": "text/x-python",
   "name": "python",
   "nbconvert_exporter": "python",
   "pygments_lexer": "ipython3",
   "version": "3.12.3"
  },
  "orig_nbformat": 4,
  "vscode": {
   "interpreter": {
    "hash": "4f7924c4c56b083e0e50eadfe7ef592a7a8ef70df33a0047f82280e6be1afe15"
   }
  }
 },
 "nbformat": 4,
 "nbformat_minor": 2
}
